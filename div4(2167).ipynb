{
 "cells": [
  {
   "cell_type": "markdown",
   "id": "be60329b",
   "metadata": {},
   "source": [
    "https://codeforces.com/contests/2167"
   ]
  },
  {
   "cell_type": "code",
   "execution_count": 3,
   "id": "972274fd",
   "metadata": {},
   "outputs": [
    {
     "name": "stdout",
     "output_type": "stream",
     "text": [
      "YES\n",
      "NO\n",
      "YES\n"
     ]
    }
   ],
   "source": [
    "n = int(input())\n",
    "for _ in range(n):\n",
    "    s = map(int,input().split())\n",
    "    if len(set(s)) == 1:\n",
    "        print(\"YES\")\n",
    "    else:\n",
    "        print(\"NO\")"
   ]
  },
  {
   "cell_type": "code",
   "execution_count": 18,
   "id": "1ffa5874",
   "metadata": {},
   "outputs": [
    {
     "name": "stdout",
     "output_type": "stream",
     "text": [
      "NO\n"
     ]
    }
   ],
   "source": [
    "from collections import Counter\n",
    "n = int(input())\n",
    "for _ in range(n):\n",
    "    n = int(input())\n",
    "    s = list(input().split())\n",
    "    if Counter(s[0]) == Counter(s[1]):\n",
    "        print('YES')\n",
    "    else:\n",
    "        print(\"NO\")\n",
    "    "
   ]
  },
  {
   "cell_type": "code",
   "execution_count": null,
   "id": "9a2c1674",
   "metadata": {},
   "outputs": [
    {
     "name": "stdout",
     "output_type": "stream",
     "text": [
      "2 3 1 4 "
     ]
    }
   ],
   "source": [
    "t = int(input())\n",
    "for _ in range(t):\n",
    "    n  = int(input())\n",
    "    s = list(map(int,input().split()))\n",
    "    even = sum([1 for x in s if x%2==0])\n",
    "    odd = sum([1 for x in s if x%2 != 0])\n",
    "    if odd and even:\n",
    "        print(*sorted(s))\n",
    "    else:\n",
    "        print(*s)"
   ]
  }
 ],
 "metadata": {
  "kernelspec": {
   "display_name": "Python 3",
   "language": "python",
   "name": "python3"
  },
  "language_info": {
   "codemirror_mode": {
    "name": "ipython",
    "version": 3
   },
   "file_extension": ".py",
   "mimetype": "text/x-python",
   "name": "python",
   "nbconvert_exporter": "python",
   "pygments_lexer": "ipython3",
   "version": "3.12.0"
  }
 },
 "nbformat": 4,
 "nbformat_minor": 5
}
