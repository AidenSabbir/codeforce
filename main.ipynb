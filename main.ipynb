{
 "cells": [
  {
   "cell_type": "code",
   "execution_count": 6,
   "id": "8c028954",
   "metadata": {},
   "outputs": [
    {
     "name": "stdout",
     "output_type": "stream",
     "text": [
      "YES\n"
     ]
    }
   ],
   "source": [
    "n = list(input())\n",
    "l = len(n)\n",
    "seen = set()\n",
    "pre = ''\n",
    "c = 0\n",
    "for i in range(l):\n",
    "    if n[i] != pre:\n",
    "        if n[i] in seen:\n",
    "            c = 1\n",
    "            break\n",
    "        seen.add(pre)\n",
    "    pre = n[i]       \n",
    "print('NO' if c else 'YES')\n"
   ]
  }
 ],
 "metadata": {
  "kernelspec": {
   "display_name": "Python 3",
   "language": "python",
   "name": "python3"
  },
  "language_info": {
   "codemirror_mode": {
    "name": "ipython",
    "version": 3
   },
   "file_extension": ".py",
   "mimetype": "text/x-python",
   "name": "python",
   "nbconvert_exporter": "python",
   "pygments_lexer": "ipython3",
   "version": "3.12.0"
  }
 },
 "nbformat": 4,
 "nbformat_minor": 5
}
